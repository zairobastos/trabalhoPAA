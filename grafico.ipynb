{
 "cells": [
  {
   "cell_type": "code",
   "execution_count": 1,
   "metadata": {},
   "outputs": [],
   "source": [
    "from data import BaseDados\n",
    "from algoritmos.bublesort import BubbleSort\n",
    "from algoritmos.insertionsort import InsertionSort\n",
    "from algoritmos.mergesort import MergeSort\n",
    "from algoritmos.quicksort import QuickSort\n",
    "from algoritmos.quickinsertion import QuickInsertion"
   ]
  },
  {
   "cell_type": "code",
   "execution_count": 2,
   "metadata": {},
   "outputs": [],
   "source": [
    "import os\n",
    "import pandas as pd"
   ]
  },
  {
   "cell_type": "code",
   "execution_count": 3,
   "metadata": {},
   "outputs": [
    {
     "data": {
      "text/html": [
       "<div>\n",
       "<style scoped>\n",
       "    .dataframe tbody tr th:only-of-type {\n",
       "        vertical-align: middle;\n",
       "    }\n",
       "\n",
       "    .dataframe tbody tr th {\n",
       "        vertical-align: top;\n",
       "    }\n",
       "\n",
       "    .dataframe thead th {\n",
       "        text-align: right;\n",
       "    }\n",
       "</style>\n",
       "<table border=\"1\" class=\"dataframe\">\n",
       "  <thead>\n",
       "    <tr style=\"text-align: right;\">\n",
       "      <th></th>\n",
       "      <th>Algoritmo</th>\n",
       "      <th>Tamanho</th>\n",
       "      <th>Tempo</th>\n",
       "    </tr>\n",
       "  </thead>\n",
       "  <tbody>\n",
       "  </tbody>\n",
       "</table>\n",
       "</div>"
      ],
      "text/plain": [
       "Empty DataFrame\n",
       "Columns: [Algoritmo, Tamanho, Tempo]\n",
       "Index: []"
      ]
     },
     "execution_count": 3,
     "metadata": {},
     "output_type": "execute_result"
    }
   ],
   "source": [
    "dataframe = pd.DataFrame(columns=['Algoritmo', 'Tamanho', 'Tempo'])\n",
    "dataframe"
   ]
  },
  {
   "cell_type": "code",
   "execution_count": null,
   "metadata": {},
   "outputs": [],
   "source": [
    "alg = 'QuickInsertion'\n",
    "tam = 100000000\n",
    "\n",
    "caminho_arquivo = f'data/{tam}.txt'\n",
    "with open(caminho_arquivo, 'r') as arquivo:\n",
    "    lista = eval(arquivo.read())\n",
    "\n",
    "    quickInsertion, tempo = QuickInsertion(lista).hybrid_sort()\n",
    "    print(\"Tempo: \", tempo,\"Algoritmo: \", alg, \"Tamanho: \", tam)\n",
    "\n",
    "    data = {\n",
    "        'Algoritmo': [alg],\n",
    "        'Tamanho': [tam],\n",
    "        'Tempo': tempo,\n",
    "    }\n",
    "    print(data)\n",
    "    dataframe2 = pd.DataFrame(data)\n",
    "    dataframe = dataframe.merge(dataframe2, how='outer')"
   ]
  },
  {
   "cell_type": "code",
   "execution_count": 93,
   "metadata": {},
   "outputs": [
    {
     "data": {
      "text/html": [
       "<div>\n",
       "<style scoped>\n",
       "    .dataframe tbody tr th:only-of-type {\n",
       "        vertical-align: middle;\n",
       "    }\n",
       "\n",
       "    .dataframe tbody tr th {\n",
       "        vertical-align: top;\n",
       "    }\n",
       "\n",
       "    .dataframe thead th {\n",
       "        text-align: right;\n",
       "    }\n",
       "</style>\n",
       "<table border=\"1\" class=\"dataframe\">\n",
       "  <thead>\n",
       "    <tr style=\"text-align: right;\">\n",
       "      <th></th>\n",
       "      <th>Algoritmo</th>\n",
       "      <th>Tamanho</th>\n",
       "      <th>Tempo</th>\n",
       "    </tr>\n",
       "  </thead>\n",
       "  <tbody>\n",
       "    <tr>\n",
       "      <th>0</th>\n",
       "      <td>QuickInsertion</td>\n",
       "      <td>10</td>\n",
       "      <td>0.000004</td>\n",
       "    </tr>\n",
       "    <tr>\n",
       "      <th>1</th>\n",
       "      <td>QuickInsertion</td>\n",
       "      <td>10</td>\n",
       "      <td>0.000004</td>\n",
       "    </tr>\n",
       "    <tr>\n",
       "      <th>2</th>\n",
       "      <td>QuickInsertion</td>\n",
       "      <td>10</td>\n",
       "      <td>0.000004</td>\n",
       "    </tr>\n",
       "    <tr>\n",
       "      <th>3</th>\n",
       "      <td>QuickInsertion</td>\n",
       "      <td>10</td>\n",
       "      <td>0.000005</td>\n",
       "    </tr>\n",
       "    <tr>\n",
       "      <th>4</th>\n",
       "      <td>QuickInsertion</td>\n",
       "      <td>10</td>\n",
       "      <td>0.000005</td>\n",
       "    </tr>\n",
       "    <tr>\n",
       "      <th>...</th>\n",
       "      <td>...</td>\n",
       "      <td>...</td>\n",
       "      <td>...</td>\n",
       "    </tr>\n",
       "    <tr>\n",
       "      <th>63</th>\n",
       "      <td>QuickInsertion</td>\n",
       "      <td>10000000</td>\n",
       "      <td>27.178035</td>\n",
       "    </tr>\n",
       "    <tr>\n",
       "      <th>64</th>\n",
       "      <td>QuickInsertion</td>\n",
       "      <td>10000000</td>\n",
       "      <td>27.187380</td>\n",
       "    </tr>\n",
       "    <tr>\n",
       "      <th>65</th>\n",
       "      <td>QuickInsertion</td>\n",
       "      <td>10000000</td>\n",
       "      <td>27.217258</td>\n",
       "    </tr>\n",
       "    <tr>\n",
       "      <th>66</th>\n",
       "      <td>QuickInsertion</td>\n",
       "      <td>10000000</td>\n",
       "      <td>27.910246</td>\n",
       "    </tr>\n",
       "    <tr>\n",
       "      <th>67</th>\n",
       "      <td>QuickInsertion</td>\n",
       "      <td>10000000</td>\n",
       "      <td>28.034931</td>\n",
       "    </tr>\n",
       "  </tbody>\n",
       "</table>\n",
       "<p>68 rows × 3 columns</p>\n",
       "</div>"
      ],
      "text/plain": [
       "         Algoritmo   Tamanho      Tempo\n",
       "0   QuickInsertion        10   0.000004\n",
       "1   QuickInsertion        10   0.000004\n",
       "2   QuickInsertion        10   0.000004\n",
       "3   QuickInsertion        10   0.000005\n",
       "4   QuickInsertion        10   0.000005\n",
       "..             ...       ...        ...\n",
       "63  QuickInsertion  10000000  27.178035\n",
       "64  QuickInsertion  10000000  27.187380\n",
       "65  QuickInsertion  10000000  27.217258\n",
       "66  QuickInsertion  10000000  27.910246\n",
       "67  QuickInsertion  10000000  28.034931\n",
       "\n",
       "[68 rows x 3 columns]"
      ]
     },
     "execution_count": 93,
     "metadata": {},
     "output_type": "execute_result"
    }
   ],
   "source": [
    "dataframe"
   ]
  },
  {
   "cell_type": "code",
   "execution_count": 94,
   "metadata": {},
   "outputs": [],
   "source": [
    "dataframe.to_csv('resultados/resultados-quickinsertion.csv', index=False)"
   ]
  }
 ],
 "metadata": {
  "kernelspec": {
   "display_name": ".venv",
   "language": "python",
   "name": "python3"
  },
  "language_info": {
   "codemirror_mode": {
    "name": "ipython",
    "version": 3
   },
   "file_extension": ".py",
   "mimetype": "text/x-python",
   "name": "python",
   "nbconvert_exporter": "python",
   "pygments_lexer": "ipython3",
   "version": "3.12.7"
  }
 },
 "nbformat": 4,
 "nbformat_minor": 2
}
